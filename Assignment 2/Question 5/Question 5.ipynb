{
  "nbformat": 4,
  "nbformat_minor": 0,
  "metadata": {
    "colab": {
      "name": "covid_may_21_data_IIT2019135.ipynb",
      "provenance": []
    },
    "kernelspec": {
      "name": "python3",
      "display_name": "Python 3"
    },
    "language_info": {
      "name": "python"
    }
  },
  "cells": [
    {
      "cell_type": "code",
      "metadata": {
        "id": "rB1FN3QJdraH"
      },
      "source": [
        "import matplotlib.pyplot as plt\n",
        "import pandas as pd\n",
        "import pylab as pl\n",
        "from sklearn.model_selection import train_test_split\n",
        "import numpy as np\n",
        "%matplotlib inline"
      ],
      "execution_count": 58,
      "outputs": []
    },
    {
      "cell_type": "code",
      "metadata": {
        "colab": {
          "base_uri": "https://localhost:8080/",
          "height": 203
        },
        "id": "vEwJoHZGfiAX",
        "outputId": "16de2e89-2145-4f68-c0db-98245c10197b"
      },
      "source": [
        "may_death_data=pd.read_csv('may2021data.csv')\n",
        "may_death_data.head()"
      ],
      "execution_count": 59,
      "outputs": [
        {
          "output_type": "execute_result",
          "data": {
            "text/html": [
              "<div>\n",
              "<style scoped>\n",
              "    .dataframe tbody tr th:only-of-type {\n",
              "        vertical-align: middle;\n",
              "    }\n",
              "\n",
              "    .dataframe tbody tr th {\n",
              "        vertical-align: top;\n",
              "    }\n",
              "\n",
              "    .dataframe thead th {\n",
              "        text-align: right;\n",
              "    }\n",
              "</style>\n",
              "<table border=\"1\" class=\"dataframe\">\n",
              "  <thead>\n",
              "    <tr style=\"text-align: right;\">\n",
              "      <th></th>\n",
              "      <th>Date_reported</th>\n",
              "      <th>New_deaths</th>\n",
              "    </tr>\n",
              "  </thead>\n",
              "  <tbody>\n",
              "    <tr>\n",
              "      <th>0</th>\n",
              "      <td>1</td>\n",
              "      <td>3523</td>\n",
              "    </tr>\n",
              "    <tr>\n",
              "      <th>1</th>\n",
              "      <td>2</td>\n",
              "      <td>2689</td>\n",
              "    </tr>\n",
              "    <tr>\n",
              "      <th>2</th>\n",
              "      <td>3</td>\n",
              "      <td>3417</td>\n",
              "    </tr>\n",
              "    <tr>\n",
              "      <th>3</th>\n",
              "      <td>4</td>\n",
              "      <td>3780</td>\n",
              "    </tr>\n",
              "    <tr>\n",
              "      <th>4</th>\n",
              "      <td>5</td>\n",
              "      <td>3499</td>\n",
              "    </tr>\n",
              "  </tbody>\n",
              "</table>\n",
              "</div>"
            ],
            "text/plain": [
              "   Date_reported  New_deaths\n",
              "0              1        3523\n",
              "1              2        2689\n",
              "2              3        3417\n",
              "3              4        3780\n",
              "4              5        3499"
            ]
          },
          "metadata": {},
          "execution_count": 59
        }
      ]
    },
    {
      "cell_type": "code",
      "metadata": {
        "colab": {
          "base_uri": "https://localhost:8080/",
          "height": 295
        },
        "id": "o7VZ3mYAfjFE",
        "outputId": "bbcdaf56-05d7-475b-9ce7-a7e6241b4c85"
      },
      "source": [
        "may_death_data.describe()"
      ],
      "execution_count": 60,
      "outputs": [
        {
          "output_type": "execute_result",
          "data": {
            "text/html": [
              "<div>\n",
              "<style scoped>\n",
              "    .dataframe tbody tr th:only-of-type {\n",
              "        vertical-align: middle;\n",
              "    }\n",
              "\n",
              "    .dataframe tbody tr th {\n",
              "        vertical-align: top;\n",
              "    }\n",
              "\n",
              "    .dataframe thead th {\n",
              "        text-align: right;\n",
              "    }\n",
              "</style>\n",
              "<table border=\"1\" class=\"dataframe\">\n",
              "  <thead>\n",
              "    <tr style=\"text-align: right;\">\n",
              "      <th></th>\n",
              "      <th>Date_reported</th>\n",
              "      <th>New_deaths</th>\n",
              "    </tr>\n",
              "  </thead>\n",
              "  <tbody>\n",
              "    <tr>\n",
              "      <th>count</th>\n",
              "      <td>31.000000</td>\n",
              "      <td>31.000000</td>\n",
              "    </tr>\n",
              "    <tr>\n",
              "      <th>mean</th>\n",
              "      <td>16.000000</td>\n",
              "      <td>3857.741935</td>\n",
              "    </tr>\n",
              "    <tr>\n",
              "      <th>std</th>\n",
              "      <td>9.092121</td>\n",
              "      <td>392.504435</td>\n",
              "    </tr>\n",
              "    <tr>\n",
              "      <th>min</th>\n",
              "      <td>1.000000</td>\n",
              "      <td>2689.000000</td>\n",
              "    </tr>\n",
              "    <tr>\n",
              "      <th>25%</th>\n",
              "      <td>8.500000</td>\n",
              "      <td>3638.500000</td>\n",
              "    </tr>\n",
              "    <tr>\n",
              "      <th>50%</th>\n",
              "      <td>16.000000</td>\n",
              "      <td>3876.000000</td>\n",
              "    </tr>\n",
              "    <tr>\n",
              "      <th>75%</th>\n",
              "      <td>23.500000</td>\n",
              "      <td>4138.500000</td>\n",
              "    </tr>\n",
              "    <tr>\n",
              "      <th>max</th>\n",
              "      <td>31.000000</td>\n",
              "      <td>4529.000000</td>\n",
              "    </tr>\n",
              "  </tbody>\n",
              "</table>\n",
              "</div>"
            ],
            "text/plain": [
              "       Date_reported   New_deaths\n",
              "count      31.000000    31.000000\n",
              "mean       16.000000  3857.741935\n",
              "std         9.092121   392.504435\n",
              "min         1.000000  2689.000000\n",
              "25%         8.500000  3638.500000\n",
              "50%        16.000000  3876.000000\n",
              "75%        23.500000  4138.500000\n",
              "max        31.000000  4529.000000"
            ]
          },
          "metadata": {},
          "execution_count": 60
        }
      ]
    },
    {
      "cell_type": "code",
      "metadata": {
        "colab": {
          "base_uri": "https://localhost:8080/"
        },
        "id": "QNtTGBPKgGNT",
        "outputId": "f1ea9155-78d1-40ce-d8b3-49d645a65885"
      },
      "source": [
        "print(may_death_data)"
      ],
      "execution_count": 61,
      "outputs": [
        {
          "output_type": "stream",
          "text": [
            "    Date_reported  New_deaths\n",
            "0               1        3523\n",
            "1               2        2689\n",
            "2               3        3417\n",
            "3               4        3780\n",
            "4               5        3499\n",
            "5               6        3780\n",
            "6               7        3980\n",
            "7               8        3915\n",
            "8               9        4187\n",
            "9              10        4092\n",
            "10             11        3754\n",
            "11             12        3876\n",
            "12             13        4205\n",
            "13             14        4120\n",
            "14             15        4000\n",
            "15             16        3890\n",
            "16             17        4106\n",
            "17             18        4396\n",
            "18             19        4529\n",
            "19             20        3874\n",
            "20             21        4209\n",
            "21             22        4194\n",
            "22             23        3741\n",
            "23             24        4454\n",
            "24             25        3511\n",
            "25             26        4157\n",
            "26             27        3847\n",
            "27             28        3660\n",
            "28             29        3617\n",
            "29             30        3460\n",
            "30             31        3128\n"
          ],
          "name": "stdout"
        }
      ]
    },
    {
      "cell_type": "code",
      "metadata": {
        "id": "LccdmiVMgJiY"
      },
      "source": [
        "X=may_death_data['Date_reported']\n",
        "Y=may_death_data['New_deaths']"
      ],
      "execution_count": 62,
      "outputs": []
    },
    {
      "cell_type": "code",
      "metadata": {
        "colab": {
          "base_uri": "https://localhost:8080/",
          "height": 281
        },
        "id": "qt682Tx3gMHr",
        "outputId": "7e02075c-a48e-4256-e18f-e1584e6c3ac1"
      },
      "source": [
        "myList=may_death_data['New_deaths']\n",
        "myList.hist()\n",
        "plt.title('Deaths')\n",
        "plt.show()"
      ],
      "execution_count": 63,
      "outputs": [
        {
          "output_type": "display_data",
          "data": {
            "image/png": "[encoded data removed]",
            "text/plain": [
              "<Figure size 432x288 with 1 Axes>"
            ]
          },
          "metadata": {
            "needs_background": "light"
          }
        }
      ]
    },
    {
      "cell_type": "code",
      "metadata": {
        "id": "yD9u9FpIgZE_"
      },
      "source": [
        "training_data = may_death_data[:22]\n",
        "testing_data = may_death_data[22:]\n",
        "X = training_data['Date_reported']\n",
        "Y = training_data['New_deaths']\n",
        "X_testing = testing_data['Date_reported']\n",
        "Y_testing = testing_data['New_deaths']"
      ],
      "execution_count": 64,
      "outputs": []
    },
    {
      "cell_type": "code",
      "metadata": {
        "colab": {
          "base_uri": "https://localhost:8080/",
          "height": 279
        },
        "id": "RRxSjBkOgevx",
        "outputId": "2ec8db08-cbd4-4b07-a294-c4778d27ae20"
      },
      "source": [
        "# straight line fitting\n",
        "plt.plot(X,Y,'ro')\n",
        "plt.xlabel('Day')\n",
        "plt.ylabel('Deaths')\n",
        "m,c=np.polyfit(X,Y,1)\n",
        "plt.plot(X,m*X+c)\n",
        "plt.show()"
      ],
      "execution_count": 65,
      "outputs": [
        {
          "output_type": "display_data",
          "data": {
            "image/png": "[encoded data removed]",
            "text/plain": [
              "<Figure size 432x288 with 1 Axes>"
            ]
          },
          "metadata": {
            "needs_background": "light"
          }
        }
      ]
    },
    {
      "cell_type": "code",
      "metadata": {
        "colab": {
          "base_uri": "https://localhost:8080/"
        },
        "id": "2oJ5QUd8ggo5",
        "outputId": "815c481e-a4ab-4c28-d1fe-35c18e98d8eb"
      },
      "source": [
        "# Predictions - 20 April 2021\n",
        "# Actual deaths - 10608\n",
        "print(\"Deaths predicted on 20 April 2021 is =\",round(m*(-11)+c,0))"
      ],
      "execution_count": 66,
      "outputs": [
        {
          "output_type": "stream",
          "text": [
            "Deaths predicted on 20 April 2021 is = 2930.0\n"
          ],
          "name": "stdout"
        }
      ]
    },
    {
      "cell_type": "code",
      "metadata": {
        "colab": {
          "base_uri": "https://localhost:8080/"
        },
        "id": "P1hhbsiWh0Xj",
        "outputId": "1c2135af-06ec-4757-8016-aa13ead651ee"
      },
      "source": [
        "# Predictions - 10 June 2020\n",
        "# Actual deaths - 13884\n",
        "print(\"Deaths predicted on  10 June 2020 is =\",round(m*(41)+c,0))"
      ],
      "execution_count": 67,
      "outputs": [
        {
          "output_type": "stream",
          "text": [
            "Deaths predicted on  10 June 2020 is = 5195.0\n"
          ],
          "name": "stdout"
        }
      ]
    },
    {
      "cell_type": "code",
      "metadata": {
        "colab": {
          "base_uri": "https://localhost:8080/"
        },
        "id": "hffpuUHQh7Rf",
        "outputId": "4250bcfb-fe75-4721-c991-c87c79d387de"
      },
      "source": [
        "#mean square error \n",
        "print('Mean square error on testing data is =',sum((Y_test-(m*X_test+c))**2)/9)"
      ],
      "execution_count": 68,
      "outputs": [
        {
          "output_type": "stream",
          "text": [
            "Mean square error on testing data is = 933510.133328474\n"
          ],
          "name": "stdout"
        }
      ]
    },
    {
      "cell_type": "code",
      "metadata": {
        "colab": {
          "base_uri": "https://localhost:8080/",
          "height": 279
        },
        "id": "ChKEBTo8h-DW",
        "outputId": "adad858a-c50b-4a9b-99c1-9b77b44b431a"
      },
      "source": [
        "X=may_death_data['Date_reported']\n",
        "Y=may_death_data['New_deaths']\n",
        "\n",
        "# quadratic curve fitting\n",
        "\n",
        "plt.plot(X,Y,'ro')\n",
        "plt.xlabel('Day')\n",
        "plt.ylabel('Deaths')\n",
        "a,b,c=np.polyfit(X,Y,2)\n",
        "plt.plot(X,a*(X**2)+b*X+c)\n",
        "plt.show()"
      ],
      "execution_count": 69,
      "outputs": [
        {
          "output_type": "display_data",
          "data": {
            "image/png": "[encoded data removed]",
            "text/plain": [
              "<Figure size 432x288 with 1 Axes>"
            ]
          },
          "metadata": {
            "needs_background": "light"
          }
        }
      ]
    },
    {
      "cell_type": "code",
      "metadata": {
        "colab": {
          "base_uri": "https://localhost:8080/"
        },
        "id": "f-uYT3CtiY_J",
        "outputId": "bfa97c29-451c-4146-c37b-742fabca504c"
      },
      "source": [
        "# Predictions - 20 April 2021\n",
        "# Actual deaths - 10608\n",
        "print(\"Deaths predicted on 20 April 2021 is =\",round(a*(-11)**2+b*(-11)+c,0))"
      ],
      "execution_count": 70,
      "outputs": [
        {
          "output_type": "stream",
          "text": [
            "Deaths predicted on 20 April 2021 is = 1028.0\n"
          ],
          "name": "stdout"
        }
      ]
    },
    {
      "cell_type": "code",
      "metadata": {
        "colab": {
          "base_uri": "https://localhost:8080/"
        },
        "id": "yK2lxkwgisg5",
        "outputId": "4cb9bbd1-6c0e-42f6-8449-872e715ef500"
      },
      "source": [
        "# Predictions - 10 June 2020\n",
        "# Actual deaths - 13884\n",
        "print(\"Deaths predicted on  10 June 2020 is =\",round(a*(41)**2+b*(41)+c,0))"
      ],
      "execution_count": 71,
      "outputs": [
        {
          "output_type": "stream",
          "text": [
            "Deaths predicted on  10 June 2020 is = 1772.0\n"
          ],
          "name": "stdout"
        }
      ]
    },
    {
      "cell_type": "code",
      "metadata": {
        "colab": {
          "base_uri": "https://localhost:8080/"
        },
        "id": "XK_U7ByXi8ER",
        "outputId": "0522b2fa-5d26-4010-c1bd-cb871abe37a8"
      },
      "source": [
        "#mean square error \n",
        "print(\"Mean square error on testing data is =\",sum((Y_test-(a*(X_test**2)+b*X_test+c))**2)/9)"
      ],
      "execution_count": 72,
      "outputs": [
        {
          "output_type": "stream",
          "text": [
            "Mean square error on testing data is = 70701.74479615982\n"
          ],
          "name": "stdout"
        }
      ]
    },
    {
      "cell_type": "markdown",
      "metadata": {
        "id": "4uWQnIESotr2"
      },
      "source": [
        "Comparing the straight line fitting and the quadratic curve fitting,\n",
        "\n",
        "as the **means square errors** denote the following :\n",
        "\n",
        "\n",
        "\n",
        "> *straight line fitting -> 436811.00284505036*\n",
        "\n",
        "> *quadratic curve fitting -> 70701.74479615982*\n",
        "\n",
        "\n",
        "\n",
        "\n",
        "\n",
        "***the quadratic curve fitting is better***\n",
        "\n"
      ]
    }
  ]
}