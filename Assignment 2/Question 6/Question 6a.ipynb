{
  "nbformat": 4,
  "nbformat_minor": 0,
  "metadata": {
    "colab": {
      "name": "ml_q6_a_IIT2019135.ipynb",
      "provenance": []
    },
    "kernelspec": {
      "name": "python3",
      "display_name": "Python 3"
    },
    "language_info": {
      "name": "python"
    }
  },
  "cells": [
    {
      "cell_type": "code",
      "metadata": {
        "id": "I30j6w67wvqr"
      },
      "source": [
        "import numpy as np"
      ],
      "execution_count": 115,
      "outputs": []
    },
    {
      "cell_type": "code",
      "metadata": {
        "id": "LM2FltyQwwig"
      },
      "source": [
        "data = np.genfromtxt(\"data.csv\", delimiter=\",\", skip_header=1)"
      ],
      "execution_count": 116,
      "outputs": []
    },
    {
      "cell_type": "code",
      "metadata": {
        "id": "rUSveocPxZoh"
      },
      "source": [
        "price=[]\n",
        "bathroms=[]\n",
        "bedrooms=[]\n",
        "area=[]\n",
        "\n",
        "for i in range(len(data)):\n",
        "\tprice.append(data[i][1])\n",
        "for i in range(len(data)):\n",
        "\tarea.append(data[i][2])\n",
        "for i in range(len(data)):\n",
        "\tbedrooms.append(data[i][3])\n",
        "for i in range(len(data)):\n",
        "\tbathroms.append(data[i][4])"
      ],
      "execution_count": 117,
      "outputs": []
    },
    {
      "cell_type": "code",
      "metadata": {
        "id": "qAZOkU-bxcb2"
      },
      "source": [
        "\n",
        "area_train = area[:382]\n",
        "bathroms_train = bathroms[:382]\n",
        "bedrooms_train = bedrooms[:382]\n",
        "price_train = price[:382]\n",
        "\n",
        "column_1 = []\n",
        "\n",
        "for i in range(len(area_train)):\n",
        "\tcolumn_1.append(1)"
      ],
      "execution_count": 118,
      "outputs": []
    },
    {
      "cell_type": "code",
      "metadata": {
        "id": "amt3RER9BETJ"
      },
      "source": [
        "zipconcat = zip(column_1, area_train, bedrooms_train, bathroms_train)\n",
        "xmatrix = list(zipconcat)\n",
        "Transposeof_xmatrix = np.transpose(xmatrix)\n",
        "DotProduct__xmatrix_and_Transposexmatrix___ = np.dot(Transposeof_xmatrix, xmatrix)\n",
        "Inverse_DotProduct__xmatrix_and_Transposexmatrix____ = np.linalg.inv(DotProduct__xmatrix_and_Transposexmatrix___)\n",
        "DotProduct_Inverse_DotProduct__xmatrix_and_Transposexmatrix____and_Transposeof_xmatrix_ = np.dot(Inverse_DotProduct__xmatrix_and_Transposexmatrix____, Transposeof_xmatrix)\n",
        "MatrixY = []\n",
        "\n",
        "for i in price_train:\n",
        "\ttemp = []\n",
        "\ttemp.append(i)\n",
        "\tMatrixY.append(temp)\n",
        "\n",
        "coefficient_matrix = np.dot(DotProduct_Inverse_DotProduct__xmatrix_and_Transposexmatrix____and_Transposeof_xmatrix_, MatrixY)\n"
      ],
      "execution_count": 119,
      "outputs": []
    },
    {
      "cell_type": "code",
      "metadata": {
        "colab": {
          "base_uri": "https://localhost:8080/"
        },
        "id": "10dISESBBLfU",
        "outputId": "6669da72-c2a9-4fef-d327-6a3527b9dd42"
      },
      "source": [
        "predict_y = []\n",
        "for i in range(383, 546):\n",
        "  predict_y.append(int(coefficient_matrix[0][0] + coefficient_matrix[1][0] * area[i] + coefficient_matrix[2][0] * bedrooms[i] + coefficient_matrix[3][0] * bathroms[i]))\n",
        "error =0\n",
        "for i in range(163):\n",
        "    error = error + abs((predict_y[i] - price[i + 382]) / price[i + 382])\n",
        "error = error / 163\n",
        "print(\"error without normalisation\", error * 100)"
      ],
      "execution_count": 122,
      "outputs": [
        {
          "output_type": "stream",
          "name": "stdout",
          "text": [
            "error without normalisation 19.868427267309862\n"
          ]
        }
      ]
    },
    {
      "cell_type": "code",
      "metadata": {
        "colab": {
          "base_uri": "https://localhost:8080/"
        },
        "id": "i97wpVnUBOQ0",
        "outputId": "0535886f-0bf2-4614-9123-2dc6b920dd0c"
      },
      "source": [
        "temp = np.identity(4, dtype=float)\n",
        "temp_matrix = np.dot(Transposeof_xmatrix, MatrixY)\n",
        "temp[0][0] = 0\n",
        "for i in range(30):\n",
        "\tBar_DotProduct__xmatrix_and_Transposexmatrix____ = np.add(DotProduct__xmatrix_and_Transposexmatrix___, temp * i)\n",
        "\tInverse_Bar_DotProduct__xmatrix_and_Transposexmatrix_____ = np.linalg.inv(Bar_DotProduct__xmatrix_and_Transposexmatrix____)\n",
        "\tcoefficient_matrix = np.dot(Inverse_Bar_DotProduct__xmatrix_and_Transposexmatrix_____, temp_matrix)\n",
        "\tpredict_y = []\n",
        "\tfor i in range(383, 546):\n",
        "\t  predict_y.append(int(coefficient_matrix[0][0] + coefficient_matrix[1][0] * area[i] + coefficient_matrix[2][0] * bedrooms[i] + coefficient_matrix[3][0] * bathroms[i]))\n",
        "\terror_test = 0\n",
        "\tfor i in range(163):\n",
        "\t    error_test = error_test + abs((predict_y[i] - price[i + 382]) / price[i + 382])\n",
        "\terror_test = error / 163\n",
        "\terror = min(error, error_test)\n",
        "print(\"error normalisation\", error)\n"
      ],
      "execution_count": 123,
      "outputs": [
        {
          "output_type": "stream",
          "name": "stdout",
          "text": [
            "error normalisation 8.561214112929113e-68\n"
          ]
        }
      ]
    }
  ]
}