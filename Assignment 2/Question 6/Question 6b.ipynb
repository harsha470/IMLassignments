{
  "nbformat": 4,
  "nbformat_minor": 0,
  "metadata": {
    "colab": {
      "name": "ml_q6_b_IIT2019135.ipynb",
      "provenance": []
    },
    "kernelspec": {
      "name": "python3",
      "display_name": "Python 3"
    },
    "language_info": {
      "name": "python"
    }
  },
  "cells": [
    {
      "cell_type": "code",
      "metadata": {
        "id": "Tt-hIceD3cUl"
      },
      "source": [
        "import numpy as np\n",
        "import pandas as pd\n",
        "import random\n",
        "import math\n"
      ],
      "execution_count": 1,
      "outputs": []
    },
    {
      "cell_type": "code",
      "metadata": {
        "id": "cJjtIqwf3-wS"
      },
      "source": [
        "\n",
        "data = pd.read_csv(\"data.csv\")\n",
        "\n",
        "price = data['price']\n",
        "area = data['lotsize']\n",
        "bedrooms = data['bedrooms']\n",
        "bathroom = data['bathrms']\n"
      ],
      "execution_count": 2,
      "outputs": []
    },
    {
      "cell_type": "code",
      "metadata": {
        "id": "gW_7RuWw4CvT"
      },
      "source": [
        "mean_area = np.mean(area)\n",
        "max_area = max(area)\n",
        "min_area = min(area)\n",
        "area_scaled = []\n",
        "for i in area:\n",
        "\tarea_scaled.append((i - mean_area) / (max_area - min_area))"
      ],
      "execution_count": 3,
      "outputs": []
    },
    {
      "cell_type": "code",
      "metadata": {
        "id": "AVakhrEF4MuK"
      },
      "source": [
        "area_train = area[:383]\n",
        "bathroom_train = bathroom[:383]\n",
        "bedrooms_train = bedrooms[:383]\n",
        "price_train = []\n",
        "price_train = price[:383]"
      ],
      "execution_count": 4,
      "outputs": []
    },
    {
      "cell_type": "code",
      "metadata": {
        "id": "4j6eUycg4OTW"
      },
      "source": [
        "def Slope(coeff, features_train, price_train, ind):\n",
        "\terror = 0\n",
        "\tfor i in range(len(features_train)):\n",
        "\t\titr = 0\n",
        "\t\tfor j in range(len(coeff)):\n",
        "\t\t\titr = itr + coeff[j] * features_train[i][j]\n",
        "\t\terror += (itr - price_train[i]) * features_train[i][ind]\n",
        "\treturn error\n"
      ],
      "execution_count": 5,
      "outputs": []
    },
    {
      "cell_type": "code",
      "metadata": {
        "colab": {
          "base_uri": "https://localhost:8080/"
        },
        "id": "ulYsRrnw4ZTl",
        "outputId": "295094db-ee2c-471d-b85f-24159c51fff4"
      },
      "source": [
        "print(\"Using batch gradient without feature scaling\")\n",
        "features_train = []\n",
        "for i in range(383):\n",
        "\tfeatures_train.append([1, area[i], bedrooms[i], bathroom[i]])\n",
        "no_scaling = 0.00000001\n",
        "\n",
        "coeff = [0, 0, 0, 0]\n",
        "print(\"Initial coefficients: \")\n",
        "print(coeff)\n",
        "lis1 = []\n",
        "for i in range(5000):\n",
        "\ttemp = coeff.copy()\n",
        "\tfor j in range(len(coeff)):\n",
        "\t\ttemp[j] = temp[j] - ((no_scaling / len(features_train)) * (Slope(coeff, features_train, price_train, j)))\n",
        "\tcoeff = temp.copy()\n",
        " \n",
        "print(\"Final coefficients are:\")\n",
        "print(coeff)\n",
        "\n",
        "price_test = []\n",
        "features_test = []\n",
        "for i in range(383, len(price)):\n",
        "\tfeatures_test.append([1, area[i], bedrooms[i], bathroom[i]])\n",
        "\tprice_test.append(price[i])\n",
        " \n",
        "error = 0\n",
        "for i in range(len(features_test)):\n",
        "\tpredicted = 0\n",
        "\tfor j in range(len(coeff)):\n",
        "\t  \tpredicted = predicted + coeff[j] * features_test[i][j]\n",
        "\terror += abs(predicted - price_test[i]) / price_test[i]\n",
        "error = (error / len(features_test)) * 100\n",
        "print(\"Mean absolute percentage error is : \" + str(error))\n",
        "\n"
      ],
      "execution_count": 33,
      "outputs": [
        {
          "output_type": "stream",
          "name": "stdout",
          "text": [
            "Using batch gradient without feature scaling\n",
            "Initial coefficients: \n",
            "[0, 0, 0, 0]\n",
            "Final coefficients are:\n",
            "[0.21941839685016323, 12.481729406733438, 0.866559580223384, 0.4899364308390147]\n",
            "Mean absolute percentage error is : 29.976669944053334\n"
          ]
        }
      ]
    },
    {
      "cell_type": "code",
      "metadata": {
        "colab": {
          "base_uri": "https://localhost:8080/"
        },
        "id": "hy10OB0S4oFn",
        "outputId": "c54eff03-0cb3-4911-dcd4-4b0ca9ae4c0f"
      },
      "source": [
        "print(\"Using batch gradient with feature scaling\")\n",
        "features_train = []\n",
        "for i in range(383):\n",
        "\tfeatures_train.append([1, area_scaled[i], bedrooms[i], bathroom[i]])\n",
        "no_scaling = 0.001\n",
        "\n",
        "coeff = [0, 0, 0, 0]\n",
        "print(\"Initial coefficients: \")\n",
        "print(coeff)\n",
        "for i in range(5000):\n",
        "\ttemp = coeff.copy()\n",
        "\tfor j in range(len(coeff)):\n",
        "\t\ttemp[j] = temp[j] - ((no_scaling / len(features_train)) * (Slope(coeff, features_train, price_train, j)))\n",
        "\tcoeff = temp.copy()\n",
        "\n",
        "print(\"Final coefficients are:\")\n",
        "print(coeff)\n",
        "\n",
        "price_test = []\n",
        "features_test = []\n",
        "for i in range(383, len(price)):\n",
        "\tfeatures_test.append([1, area_scaled[i], bedrooms[i], bathroom[i]])\n",
        "\tprice_test.append(price[i])\n",
        "\n",
        "error = 0\n",
        "for i in range(len(features_test)):\n",
        "\tpredicted = 0\n",
        "\tfor j in range(len(coeff)):\n",
        "\t  \tpredicted = predicted + coeff[j] * features_test[i][j]\n",
        "\terror += abs(predicted - price_test[i]) / price_test[i]\n",
        "error = (error / len(features_test)) * 100\n",
        "print(\"Mean absolute percentage error is : \" + str(error))"
      ],
      "execution_count": 34,
      "outputs": [
        {
          "output_type": "stream",
          "name": "stdout",
          "text": [
            "Using batch gradient with feature scaling\n",
            "Initial coefficients: \n",
            "[0, 0, 0, 0]\n",
            "Final coefficients are:\n",
            "[7730.872053867435, 8069.264303687423, 11077.015405893277, 18485.569122447192]\n",
            "Mean absolute percentage error is : 20.34046542497449\n"
          ]
        }
      ]
    },
    {
      "cell_type": "code",
      "metadata": {
        "colab": {
          "base_uri": "https://localhost:8080/"
        },
        "id": "0QnKuR594vDU",
        "outputId": "61a84fb0-0639-4087-9389-da7f3d283927"
      },
      "source": [
        "def SlopeStoch(coeff,features_train,value_actual,ind):\n",
        "\titr = 0\n",
        "\tfor j in range(len(coeff)):\n",
        "\t\titr = itr + coeff[j]*features_train[j]\n",
        "\treturn (itr - value_actual) * features_train[ind]\n",
        "\n",
        "print(\"Using Stochastic gradient without feature scaling\")\n",
        "\n",
        "features_train = []\n",
        "for i in range(383):\n",
        "\tfeatures_train.append([1, area[i], bedrooms[i], bathroom[i]])\n",
        " \n",
        "no_scaling = 0.0000000003\n",
        "coeff = [0, 0, 0, 0]\n",
        "print(\"Initial coefficients: \")\n",
        "print(coeff)\n",
        "\n",
        "for iter in range(10):\n",
        "\tfor i in range(len(price_train)):\n",
        "\t\ttemp = coeff.copy()\n",
        "\t\tfor j in range(4):\n",
        "\t\t\ttemp[j] = temp[j] - (no_scaling * (SlopeStoch(coeff, features_train[i], price_train[i], j)))\n",
        "\t\tcoeff = temp.copy()\n",
        "\n",
        "print(\"Final coefficients are:\")\n",
        "print(coeff)\n",
        "\n",
        "price_test = []\n",
        "features_test = []\n",
        "for i in range(383, len(price)):\n",
        "\tfeatures_test.append([1, area[i], bedrooms[i], bathroom[i]])\n",
        "\tprice_test.append(price[i])\n",
        " \n",
        "error = 0\n",
        "for i in range(len(features_test)):\n",
        "\tpredicted = 0\n",
        "\tfor j in range(len(coeff)):\n",
        "\t  \tpredicted = predicted + coeff[j] * features_test[i][j]\n",
        "\terror += abs(predicted - price_test[i]) / price_test[i]\n",
        "error = (error / len(features_test)) * 100\n",
        "print(\"Mean absolute percentage error is : \" + str(error))\n",
        "\n"
      ],
      "execution_count": 32,
      "outputs": [
        {
          "output_type": "stream",
          "name": "stdout",
          "text": [
            "Using Stochastic gradient without feature scaling\n",
            "Initial coefficients: \n",
            "[0, 0, 0, 0]\n",
            "Final coefficients are:\n",
            "[0.0071803400406398946, 12.301337356957236, 0.026237149684201787, 0.014175780186431276]\n",
            "Mean absolute percentage error is : 29.96004919775569\n"
          ]
        }
      ]
    },
    {
      "cell_type": "code",
      "metadata": {
        "colab": {
          "base_uri": "https://localhost:8080/"
        },
        "id": "woTVC8Vb6ssN",
        "outputId": "fdee2fcd-9269-44f1-a5b7-bf34dfa7b440"
      },
      "source": [
        "\n",
        "\n",
        "\n",
        "print(\"Using Stochastic gradient with feature scaling\")\n",
        "\n",
        "features_train = []\n",
        "for i in range(383):\n",
        "\tfeatures_train.append([1, area_scaled[i], bedrooms[i], bathroom[i]])\n",
        "\n",
        "scaling = 0.005\n",
        "coeff = [0, 0, 0, 0]\n",
        "print(\"Initial coefficients: \")\n",
        "print(coeff)\n",
        "\n",
        "for iter in range(10):\n",
        "\tfor i in range(len(price_train)):\n",
        "\t\ttemp = coeff.copy()\n",
        "\t\tfor j in range(4):\n",
        "\t\t\ttemp[j] = temp[j] - (scaling * (SlopeStoch(coeff, features_train[i], price_train[i], j)))\n",
        "\t\tcoeff = temp.copy()\n",
        "\n",
        "print(\"Final coefficients are:\")\n",
        "print(coeff)"
      ],
      "execution_count": 23,
      "outputs": [
        {
          "output_type": "stream",
          "name": "stdout",
          "text": [
            "Mean absolute percentage error is : 121188.06057013628\n",
            "Using Stochastic gradient with feature scaling\n",
            "Initial coefficients: \n",
            "[0, 0, 0, 0]\n",
            "Final coefficients are:\n",
            "[18648.663069990776, 15073.501985961251, 15766.862790309351, 22357.23427068568]\n"
          ]
        }
      ]
    },
    {
      "cell_type": "code",
      "metadata": {
        "colab": {
          "base_uri": "https://localhost:8080/"
        },
        "id": "esgpuprh67np",
        "outputId": "74aec4ae-438f-414b-9078-bc138c93997d"
      },
      "source": [
        "print(\"Using Minibatch gradient without feature scaling for batch size = 20\")\n",
        "features_train = []\n",
        "for i in range(383):\n",
        "\tfeatures_train.append([1, area[i], bedrooms[i], bathroom[i]])\n",
        "\n",
        "batch_size = 20;\n",
        "scaling = 0.000000001\n",
        "coeff = [0, 0, 0, 0]\n",
        "batches_count = math.ceil(len(price_train) / batch_size)\n",
        "flag = False\n",
        "if (len(price_train) % batch_size == 0):\n",
        "\tflag = True;\n",
        "\n",
        "for epoch in range(30):\n",
        "\tfor batch in range(batches_count):\n",
        "\t\tvalue_sum = [0, 0, 0, 0]\n",
        "\t\tfor j in range(len(coeff)):\n",
        "\t\t\tfor i in range(batch_size):\n",
        "\t\t\t\tif (batch * batch_size + i == len(features_train)):\n",
        "\t\t\t\t\tbreak\n",
        "\t\t\t\tvalue_predicted = 0.0\n",
        "\t\t\t\tfor wj in range(len(coeff)):\n",
        "\t\t\t\t\tvalue_predicted += coeff[wj] * features_train[batch * batch_size + i][wj]\n",
        "\t\t\t\tvalue_predicted -= price_train[batch * batch_size + i]\n",
        "\t\t\t\tvalue_predicted *= features_train[batch * batch_size + i][j]\n",
        "\t\t\t\tvalue_sum[j] += value_predicted;\n",
        "\n",
        "\t\tif (not flag and batch == batches_count - 1):\n",
        "\t\t\tfor j in range(len(value_sum)):\n",
        "\t\t\t\tcoeff[j] -= (value_sum[j] / (len(price_train) % batch_size)) * scaling\n",
        "\t\telse:\n",
        "\t\t\tfor j in range(len(value_sum)):\n",
        "\t\t\t\tcoeff[j] -= (value_sum[j] / batch_size) * scaling\n",
        "print(\"Final coefficients are:\")\n",
        "print(coeff)\n",
        "\n",
        "price_test = []\n",
        "features_test = []\n",
        "for i in range(383, len(price)):\n",
        "\tfeatures_test.append([1, area[i], bedrooms[i], bathroom[i]])\n",
        "\tprice_test.append(price[i])\n",
        "\n",
        "error = 0\n",
        "for i in range(len(features_test)):\n",
        "\tpredicted = 0\n",
        "\tfor j in range(len(coeff)):\n",
        "\t  \tpredicted = predicted + coeff[j] * features_test[i][j]\n",
        "\terror += abs(predicted - price_test[i]) / price_test[i]\n",
        "error = (error / len(features_test)) * 100\n",
        "print(\"Mean absolute percentage error is : \" + str(error))\n",
        "\n",
        "\n"
      ],
      "execution_count": 28,
      "outputs": [
        {
          "output_type": "stream",
          "name": "stdout",
          "text": [
            "Using Minibatch gradient without feature scaling for batch size = 20\n",
            "Final coefficients are:\n",
            "[0.004878043860877857, 12.316492614601154, 0.016968931159065084, 0.008676023446934251]\n",
            "Mean absolute percentage error is : 29.959938152860634\n"
          ]
        }
      ]
    },
    {
      "cell_type": "code",
      "metadata": {
        "colab": {
          "base_uri": "https://localhost:8080/"
        },
        "id": "q1Y1s3HK6_ka",
        "outputId": "6702aac1-9643-4e76-db01-bf4164522d9c"
      },
      "source": [
        "print(\"Using Minibatch gradient with feature scaling for batch size = 20\")\n",
        "\n",
        "features_train = []\n",
        "for i in range(383):\n",
        "\tfeatures_train.append([1, area_scaled[i], bedrooms[i], bathroom[i]])\n",
        "\n",
        "batch_size = 20;\n",
        "scaling = 0.002\n",
        "coeff = [0, 0, 0, 0]\n",
        "batches_count = math.ceil(len(price_train) / batch_size)\n",
        "flag = False\n",
        "if (len(price_train) % batch_size == 0):\n",
        "\tflag = True;\n",
        "\n",
        "for epoch in range(30):\n",
        "\tfor batch in range(batches_count):\n",
        "\t\tvalue_sum = [0, 0, 0, 0]\n",
        "\t\tfor j in range(len(coeff)):\n",
        "\t\t\tfor i in range(batch_size):\n",
        "\t\t\t\tif (batch * batch_size + i == len(features_train)):\n",
        "\t\t\t\t\tbreak\n",
        "\t\t\t\tvalue_predicted = 0.0\n",
        "\t\t\t\tfor wj in range(len(coeff)):\n",
        "\t\t\t\t\tvalue_predicted += coeff[wj] * features_train[batch * batch_size + i][wj]\n",
        "\t\t\t\tvalue_predicted -= price_train[batch * batch_size + i]\n",
        "\t\t\t\tvalue_predicted *= features_train[batch * batch_size + i][j]\n",
        "\t\t\t\tvalue_sum[j] += value_predicted;\n",
        "\n",
        "\t\tif (not flag and batch == batches_count - 1):\n",
        "\t\t\tfor j in range(len(value_sum)):\n",
        "\t\t\t\tcoeff[j] -= (value_sum[j] / (len(price_train) % batch_size)) * scaling\n",
        "\t\telse:\n",
        "\t\t\tfor j in range(len(value_sum)):\n",
        "\t\t\t\tcoeff[j] -= (value_sum[j] / batch_size) * scaling\n",
        "print(\"Final coefficients are:\")\n",
        "print(coeff)\n",
        "\n",
        "price_test = []\n",
        "features_test = []\n",
        "for i in range(383, len(price)):\n",
        "\tfeatures_test.append([1, area_scaled[i], bedrooms[i], bathroom[i]])\n",
        "\tprice_test.append(price[i])\n",
        "\n",
        "error = 0\n",
        "for i in range(len(features_test)):\n",
        "\tpredicted = 0\n",
        "\tfor j in range(len(coeff)):\n",
        "\t  \tpredicted = predicted + coeff[j] * features_test[i][j]\n",
        "\terror += abs(predicted - price_test[i]) / price_test[i]\n",
        "error = (error / len(features_test)) * 100\n",
        "print(\"Mean absolute percentage error is : \" + str(error))\n"
      ],
      "execution_count": 26,
      "outputs": [
        {
          "output_type": "stream",
          "name": "stdout",
          "text": [
            "Using Minibatch gradient with feature scaling for batch size = 20\n",
            "Final coefficients are:\n",
            "[6340.552295015755, 2827.87646125345, 15916.90159915714, 10968.772912396124]\n",
            "Mean absolute percentage error is : 20.275262089497147\n"
          ]
        }
      ]
    }
  ]
}